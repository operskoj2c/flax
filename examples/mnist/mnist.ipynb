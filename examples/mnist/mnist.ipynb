{
  "nbformat": 4,
  "nbformat_minor": 0,
  "metadata": {
    "orig_nbformat": 2,
    "colab": {
      "name": "mnist.ipynb",
      "provenance": [],
      "toc_visible": true
    },
    "kernelspec": {
      "name": "python3",
      "display_name": "Python 3"
    },
    "accelerator": "GPU",
    "widgets": {
      "application/vnd.jupyter.widget-state+json": {
        "356dc3a9fe9b4b88ab04e184a621ce67": {
          "model_module": "@jupyter-widgets/controls",
          "model_name": "HBoxModel",
          "state": {
            "_view_name": "HBoxView",
            "_dom_classes": [],
            "_model_name": "HBoxModel",
            "_view_module": "@jupyter-widgets/controls",
            "_model_module_version": "1.5.0",
            "_view_count": null,
            "_view_module_version": "1.5.0",
            "box_style": "",
            "layout": "IPY_MODEL_fdb6070fc8d54d01a2f5125158d4d099",
            "_model_module": "@jupyter-widgets/controls",
            "children": [
              "IPY_MODEL_df5f4785eb2d47f8b211a8324c29eea7",
              "IPY_MODEL_d0c347378b584ec1b35c2544dae0aef9"
            ]
          }
        },
        "fdb6070fc8d54d01a2f5125158d4d099": {
          "model_module": "@jupyter-widgets/base",
          "model_name": "LayoutModel",
          "state": {
            "_view_name": "LayoutView",
            "grid_template_rows": null,
            "right": null,
            "justify_content": null,
            "_view_module": "@jupyter-widgets/base",
            "overflow": null,
            "_model_module_version": "1.2.0",
            "_view_count": null,
            "flex_flow": null,
            "width": null,
            "min_width": null,
            "border": null,
            "align_items": null,
            "bottom": null,
            "_model_module": "@jupyter-widgets/base",
            "top": null,
            "grid_column": null,
            "overflow_y": null,
            "overflow_x": null,
            "grid_auto_flow": null,
            "grid_area": null,
            "grid_template_columns": null,
            "flex": null,
            "_model_name": "LayoutModel",
            "justify_items": null,
            "grid_row": null,
            "max_height": null,
            "align_content": null,
            "visibility": null,
            "align_self": null,
            "height": null,
            "min_height": null,
            "padding": null,
            "grid_auto_rows": null,
            "grid_gap": null,
            "max_width": null,
            "order": null,
            "_view_module_version": "1.2.0",
            "grid_template_areas": null,
            "object_position": null,
            "object_fit": null,
            "grid_auto_columns": null,
            "margin": null,
            "display": null,
            "left": null
          }
        },
        "df5f4785eb2d47f8b211a8324c29eea7": {
          "model_module": "@jupyter-widgets/controls",
          "model_name": "FloatProgressModel",
          "state": {
            "_view_name": "ProgressView",
            "style": "IPY_MODEL_805cbc58fc994965ba196e50dabac4b8",
            "_dom_classes": [],
            "description": "Dl Completed...: 100%",
            "_model_name": "FloatProgressModel",
            "bar_style": "success",
            "max": 4,
            "_view_module": "@jupyter-widgets/controls",
            "_model_module_version": "1.5.0",
            "value": 4,
            "_view_count": null,
            "_view_module_version": "1.5.0",
            "orientation": "horizontal",
            "min": 0,
            "description_tooltip": null,
            "_model_module": "@jupyter-widgets/controls",
            "layout": "IPY_MODEL_2cd1fa90e2e0440cac7a19d122e2549b"
          }
        },
        "d0c347378b584ec1b35c2544dae0aef9": {
          "model_module": "@jupyter-widgets/controls",
          "model_name": "HTMLModel",
          "state": {
            "_view_name": "HTMLView",
            "style": "IPY_MODEL_4698e199c07349f8a8fa49af59a56198",
            "_dom_classes": [],
            "description": "",
            "_model_name": "HTMLModel",
            "placeholder": "​",
            "_view_module": "@jupyter-widgets/controls",
            "_model_module_version": "1.5.0",
            "value": " 4/4 [00:06&lt;00:00,  1.58s/ file]",
            "_view_count": null,
            "_view_module_version": "1.5.0",
            "description_tooltip": null,
            "_model_module": "@jupyter-widgets/controls",
            "layout": "IPY_MODEL_218b764afc8549d781af8ba68b8fa08e"
          }
        },
        "805cbc58fc994965ba196e50dabac4b8": {
          "model_module": "@jupyter-widgets/controls",
          "model_name": "ProgressStyleModel",
          "state": {
            "_view_name": "StyleView",
            "_model_name": "ProgressStyleModel",
            "description_width": "initial",
            "_view_module": "@jupyter-widgets/base",
            "_model_module_version": "1.5.0",
            "_view_count": null,
            "_view_module_version": "1.2.0",
            "bar_color": null,
            "_model_module": "@jupyter-widgets/controls"
          }
        },
        "2cd1fa90e2e0440cac7a19d122e2549b": {
          "model_module": "@jupyter-widgets/base",
          "model_name": "LayoutModel",
          "state": {
            "_view_name": "LayoutView",
            "grid_template_rows": null,
            "right": null,
            "justify_content": null,
            "_view_module": "@jupyter-widgets/base",
            "overflow": null,
            "_model_module_version": "1.2.0",
            "_view_count": null,
            "flex_flow": null,
            "width": null,
            "min_width": null,
            "border": null,
            "align_items": null,
            "bottom": null,
            "_model_module": "@jupyter-widgets/base",
            "top": null,
            "grid_column": null,
            "overflow_y": null,
            "overflow_x": null,
            "grid_auto_flow": null,
            "grid_area": null,
            "grid_template_columns": null,
            "flex": null,
            "_model_name": "LayoutModel",
            "justify_items": null,
            "grid_row": null,
            "max_height": null,
            "align_content": null,
            "visibility": null,
            "align_self": null,
            "height": null,
            "min_height": null,
            "padding": null,
            "grid_auto_rows": null,
            "grid_gap": null,
            "max_width": null,
            "order": null,
            "_view_module_version": "1.2.0",
            "grid_template_areas": null,
            "object_position": null,
            "object_fit": null,
            "grid_auto_columns": null,
            "margin": null,
            "display": null,
            "left": null
          }
        },
        "4698e199c07349f8a8fa49af59a56198": {
          "model_module": "@jupyter-widgets/controls",
          "model_name": "DescriptionStyleModel",
          "state": {
            "_view_name": "StyleView",
            "_model_name": "DescriptionStyleModel",
            "description_width": "",
            "_view_module": "@jupyter-widgets/base",
            "_model_module_version": "1.5.0",
            "_view_count": null,
            "_view_module_version": "1.2.0",
            "_model_module": "@jupyter-widgets/controls"
          }
        },
        "218b764afc8549d781af8ba68b8fa08e": {
          "model_module": "@jupyter-widgets/base",
          "model_name": "LayoutModel",
          "state": {
            "_view_name": "LayoutView",
            "grid_template_rows": null,
            "right": null,
            "justify_content": null,
            "_view_module": "@jupyter-widgets/base",
            "overflow": null,
            "_model_module_version": "1.2.0",
            "_view_count": null,
            "flex_flow": null,
            "width": null,
            "min_width": null,
            "border": null,
            "align_items": null,
            "bottom": null,
            "_model_module": "@jupyter-widgets/base",
            "top": null,
            "grid_column": null,
            "overflow_y": null,
            "overflow_x": null,
            "grid_auto_flow": null,
            "grid_area": null,
            "grid_template_columns": null,
            "flex": null,
            "_model_name": "LayoutModel",
            "justify_items": null,
            "grid_row": null,
            "max_height": null,
            "align_content": null,
            "visibility": null,
            "align_self": null,
            "height": null,
            "min_height": null,
            "padding": null,
            "grid_auto_rows": null,
            "grid_gap": null,
            "max_width": null,
            "order": null,
            "_view_module_version": "1.2.0",
            "grid_template_areas": null,
            "object_position": null,
            "object_fit": null,
            "grid_auto_columns": null,
            "margin": null,
            "display": null,
            "left": null
          }
        }
      }
    }
  },
  "cells": [
    {
      "cell_type": "markdown",
      "metadata": {
        "id": "wquAnPg0p4Y8"
      },
      "source": [
        "# Flax MNIST Example\n",
        "\n",
        "<a href=\"https://colab.research.google.com/github/google/flax/blob/master/examples/mnist/mnist.ipynb\" ><img src=\"https://colab.research.google.com/assets/colab-badge.svg\" alt=\"Open In Colab\"/></a>\n",
        "\n",
        "Demonstration notebook for\n",
        "https://github.com/google/flax/tree/master/examples/mnist\n",
        "\n",
        "If you're looking for an **annotated** version of Flax MNIST\n",
        "https://colab.research.google.com/github/google/flax/blob/master/docs/notebooks/annotated_mnist_example._ipynb"
      ]
    },
    {
      "cell_type": "markdown",
      "metadata": {
        "id": "UuqrLz3he_1M"
      },
      "source": [
        "The **Flax Notebook Workflow**:\n",
        "\n",
        "1. Run the entire notebook end-to-end and check out the outputs.\n",
        "   - This will open Python files in the right-hand editor!\n",
        "   - You'll be able to interactively explore metrics in TensorBoard.\n",
        "2. Change `config` and train for different hyperparameters. Check out the\n",
        "   updated TensorBoard plots.\n",
        "3. Update the code in `train.py`. Thanks to `%autoreload`, any changes you\n",
        "   make in the file will automatically appear in the notebook. Some ideas to\n",
        "   get you started:\n",
        "   - Change the model.\n",
        "   - Log some per-batch metrics during training.\n",
        "   - Add new hyperparameters to `configs/default.py` and use them in\n",
        "     `train.py`.\n",
        "4. At any time, feel free to paste code from `train.py` into the notebook\n",
        "   and modify it directly there!"
      ]
    },
    {
      "cell_type": "markdown",
      "metadata": {
        "id": "2cMTM3W4hcsZ"
      },
      "source": [
        "## Setup"
      ]
    },
    {
      "cell_type": "code",
      "metadata": {
        "id": "xVAH-aWN3NzF",
        "outputId": "8c518b6e-b4b4-4c9e-8e7b-5a3cd7529ff1",
        "colab": {
          "base_uri": "https://localhost:8080/"
        }
      },
      "source": [
        "# Install ml-collections & latest Flax version from Github.\n",
        "!pip install -q ml-collections git+https://github.com/google/flax"
      ],
      "execution_count": null,
      "outputs": [
        {
          "output_type": "stream",
          "text": [
            "\u001b[?25l\r\u001b[K     |███▊                            | 10kB 24.3MB/s eta 0:00:01\r\u001b[K     |███████▍                        | 20kB 1.8MB/s eta 0:00:01\r\u001b[K     |███████████                     | 30kB 2.2MB/s eta 0:00:01\r\u001b[K     |██████████████▉                 | 40kB 2.5MB/s eta 0:00:01\r\u001b[K     |██████████████████▌             | 51kB 2.0MB/s eta 0:00:01\r\u001b[K     |██████████████████████▏         | 61kB 2.3MB/s eta 0:00:01\r\u001b[K     |█████████████████████████▉      | 71kB 2.5MB/s eta 0:00:01\r\u001b[K     |█████████████████████████████▋  | 81kB 2.8MB/s eta 0:00:01\r\u001b[K     |████████████████████████████████| 92kB 2.5MB/s \n",
            "\u001b[?25h  Building wheel for flax (setup.py) ... \u001b[?25l\u001b[?25hdone\n"
          ],
          "name": "stdout"
        }
      ]
    },
    {
      "cell_type": "code",
      "metadata": {
        "id": "SwX8bCNEGhJM"
      },
      "source": [
        "example_directory = 'examples/mnist'\n",
        "editor_relpaths = ('configs/default.py', 'train.py')"
      ],
      "execution_count": null,
      "outputs": []
    },
    {
      "cell_type": "code",
      "metadata": {
        "id": "o65RonwHp4Y9",
        "cellView": "form"
      },
      "source": [
        "# (If you run this code in Jupyter[lab], then you're already in the\n",
        "#  example directory and nothing needs to be done.)\n",
        "\n",
        "#@markdown **Fetch newest Flax, copy example code**\n",
        "#@markdown\n",
        "#@markdown **If you select no** below, then the files will be stored on the\n",
        "#@markdown *ephemeral* Colab VM. **After some time of inactivity, this VM will\n",
        "#@markdown be restarted an any changes are lost**.\n",
        "#@markdown\n",
        "#@markdown **If you select yes** below, then you will be asked for your\n",
        "#@markdown credentials to mount your personal Google Drive. In this case, all\n",
        "#@markdown changes you make will be *persisted*, and even if you re-run the\n",
        "#@markdown Colab later on, the files will still be the same (you can of course\n",
        "#@markdown remove directories inside your Drive's `flax/` root if you want to\n",
        "#@markdown manually revert these files).\n",
        "\n",
        "if 'google.colab' in str(get_ipython()):\n",
        "  import os\n",
        "  os.chdir('/content')\n",
        "  # Download Flax repo from Github.\n",
        "  if not os.path.isdir('flaxrepo'):\n",
        "    !git clone --depth=1 https://github.com/google/flax flaxrepo\n",
        "  # Copy example files & change directory.\n",
        "  mount_gdrive = 'no' #@param ['yes', 'no']\n",
        "  if mount_gdrive == 'yes':\n",
        "    DISCLAIMER = 'Note : Editing in your Google Drive, changes will persist.'\n",
        "    from google.colab import drive\n",
        "    drive.mount('/content/gdrive')\n",
        "    example_root_path = f'/content/gdrive/My Drive/flax/{example_directory}'\n",
        "  else:\n",
        "    DISCLAIMER = 'WARNING : Editing in VM - changes lost after reboot!!'\n",
        "    example_root_path = f'/content/{example_directory}'\n",
        "    from IPython import display\n",
        "    display.display(display.HTML(\n",
        "        f'<h1 style=\"color:red;\" class=\"blink\">{DISCLAIMER}</h1>'))\n",
        "  if not os.path.isdir(example_root_path):\n",
        "    os.makedirs(example_root_path)\n",
        "    !cp -r flaxrepo/$example_directory/* \"$example_root_path\"\n",
        "  os.chdir(example_root_path)\n",
        "  from google.colab import files\n",
        "  for relpath in editor_relpaths:\n",
        "    s = open(f'{example_root_path}/{relpath}').read()\n",
        "    open(f'{example_root_path}/{relpath}', 'w').write(\n",
        "        f'## {DISCLAIMER}\\n' + '#' * (len(DISCLAIMER) + 3) + '\\n\\n' + s)\n",
        "    files.view(f'{example_root_path}/{relpath}')"
      ],
      "execution_count": null,
      "outputs": []
    },
    {
      "cell_type": "code",
      "metadata": {
        "id": "xcXZ-F3_zBuJ",
        "outputId": "58b19641-2f3f-4ead-9606-07f5252fdc3c",
        "colab": {
          "base_uri": "https://localhost:8080/"
        }
      },
      "source": [
        "# Note : In Colab, above cell changed the working direcoty.\n",
        "!pwd"
      ],
      "execution_count": null,
      "outputs": [
        {
          "output_type": "stream",
          "text": [
            "/content/examples/mnist\n"
          ],
          "name": "stdout"
        }
      ]
    },
    {
      "cell_type": "markdown",
      "metadata": {
        "id": "Tt0rL4ycp4ZB"
      },
      "source": [
        "## Imports / Helpers"
      ]
    },
    {
      "cell_type": "code",
      "metadata": {
        "id": "EdzHCJuop4ZB"
      },
      "source": [
        "from absl import logging\n",
        "import flax\n",
        "import jax.numpy as jnp\n",
        "from matplotlib import pyplot as plt\n",
        "import numpy as np\n",
        "import tensorflow_datasets as tfds\n",
        "\n",
        "logging.set_verbosity(logging.INFO)"
      ],
      "execution_count": null,
      "outputs": []
    },
    {
      "cell_type": "code",
      "metadata": {
        "id": "7O2C7AY3p4ZF"
      },
      "source": [
        "# Helper functions for images.\n",
        "\n",
        "def show_img(img, ax=None, title=None):\n",
        "  \"\"\"Shows a single image.\"\"\"\n",
        "  if ax is None:\n",
        "    ax = plt.gca()\n",
        "  ax.imshow(img[..., 0], cmap='gray')\n",
        "  ax.set_xticks([])\n",
        "  ax.set_yticks([])\n",
        "  if title:\n",
        "    ax.set_title(title)\n",
        "\n",
        "def show_img_grid(imgs, titles):\n",
        "  \"\"\"Shows a grid of images.\"\"\"\n",
        "  n = int(np.ceil(len(imgs)**.5))\n",
        "  _, axs = plt.subplots(n, n, figsize=(3 * n, 3 * n))\n",
        "  for i, (img, title) in enumerate(zip(imgs, titles)):\n",
        "    show_img(img, axs[i // n][i % n], title)"
      ],
      "execution_count": null,
      "outputs": []
    },
    {
      "cell_type": "code",
      "metadata": {
        "tags": [],
        "id": "6Y1ru2Ovp4ZI"
      },
      "source": [
        "# Local imports from current directory - auto reload.\n",
        "# Any changes you make to train.py will appear automatically.\n",
        "%load_ext autoreload\n",
        "%autoreload 2\n",
        "import train\n",
        "from configs import default as config_lib\n",
        "config = config_lib.get_config()"
      ],
      "execution_count": null,
      "outputs": []
    },
    {
      "cell_type": "markdown",
      "metadata": {
        "id": "gGi7zcRpp4ZL"
      },
      "source": [
        "## Dataset"
      ]
    },
    {
      "cell_type": "code",
      "metadata": {
        "tags": [],
        "id": "BRg0rNsJp4ZL",
        "outputId": "86f4e15e-c0c2-42b8-b0c6-9b6ec0e27783",
        "colab": {
          "base_uri": "https://localhost:8080/",
          "height": 341,
          "referenced_widgets": [
            "356dc3a9fe9b4b88ab04e184a621ce67",
            "fdb6070fc8d54d01a2f5125158d4d099",
            "df5f4785eb2d47f8b211a8324c29eea7",
            "d0c347378b584ec1b35c2544dae0aef9",
            "805cbc58fc994965ba196e50dabac4b8",
            "2cd1fa90e2e0440cac7a19d122e2549b",
            "4698e199c07349f8a8fa49af59a56198",
            "218b764afc8549d781af8ba68b8fa08e"
          ]
        }
      },
      "source": [
        "# Get datasets as dict of JAX arrays.\n",
        "train_ds, test_ds = train.get_datasets()"
      ],
      "execution_count": null,
      "outputs": [
        {
          "output_type": "stream",
          "text": [
            "INFO:absl:Load pre-computed datasetinfo (eg: splits) from bucket.\n",
            "INFO:absl:Loading info from GCS for mnist/3.0.0\n",
            "INFO:absl:Field info.location from disk and from code do not match. Keeping the one from code.\n",
            "INFO:absl:Generating dataset mnist (/root/tensorflow_datasets/mnist/3.0.0)\n",
            "WARNING:absl:Dataset mnist is hosted on GCS. It will automatically be downloaded to your\n",
            "local data directory. If you'd instead prefer to read directly from our public\n",
            "GCS bucket (recommended if you're running on GCP), you can instead set\n",
            "data_dir=gs://tfds-data/datasets.\n",
            "\n"
          ],
          "name": "stderr"
        },
        {
          "output_type": "stream",
          "text": [
            "\u001b[1mDownloading and preparing dataset mnist/3.0.0 (download: 11.06 MiB, generated: Unknown size, total: 11.06 MiB) to /root/tensorflow_datasets/mnist/3.0.0...\u001b[0m\n"
          ],
          "name": "stdout"
        },
        {
          "output_type": "display_data",
          "data": {
            "application/vnd.jupyter.widget-view+json": {
              "model_id": "356dc3a9fe9b4b88ab04e184a621ce67",
              "version_minor": 0,
              "version_major": 2
            },
            "text/plain": [
              "HBox(children=(FloatProgress(value=0.0, description='Dl Completed...', max=4.0, style=ProgressStyle(descriptio…"
            ]
          },
          "metadata": {
            "tags": []
          }
        },
        {
          "output_type": "stream",
          "text": [
            "INFO:absl:Field info.location from disk and from code do not match. Keeping the one from code.\n",
            "INFO:absl:Constructing tf.data.Dataset for split train, from /root/tensorflow_datasets/mnist/3.0.0\n"
          ],
          "name": "stderr"
        },
        {
          "output_type": "stream",
          "text": [
            "\n",
            "\n",
            "\u001b[1mDataset mnist downloaded and prepared to /root/tensorflow_datasets/mnist/3.0.0. Subsequent calls will reuse this data.\u001b[0m\n"
          ],
          "name": "stdout"
        },
        {
          "output_type": "stream",
          "text": [
            "INFO:absl:Constructing tf.data.Dataset for split test, from /root/tensorflow_datasets/mnist/3.0.0\n"
          ],
          "name": "stderr"
        }
      ]
    },
    {
      "cell_type": "code",
      "metadata": {
        "id": "B0LgjT3Vp4ZP",
        "outputId": "73944966-711f-4a70-c201-09d0bb6f491b",
        "colab": {
          "base_uri": "https://localhost:8080/",
          "height": 866
        }
      },
      "source": [
        "show_img_grid(\n",
        "    [train_ds['image'][idx] for idx in range(25)],\n",
        "    [f'label={train_ds[\"label\"][idx]}' for idx in range(25)],\n",
        ")"
      ],
      "execution_count": null,
      "outputs": [
        {
          "output_type": "display_data",
          "data": {
            "image/png": "[encoded data removed]",
            "text/plain": [
              "<Figure size 1080x1080 with 25 Axes>"
            ]
          },
          "metadata": {
            "tags": []
          }
        }
      ]
    },
    {
      "cell_type": "markdown",
      "metadata": {
        "id": "KqW8WP5bp4ZS"
      },
      "source": [
        "## Training"
      ]
    },
    {
      "cell_type": "code",
      "metadata": {
        "id": "zzBxSXGGyEfw"
      },
      "source": [
        "# Get a live update during training - use the \"refresh\" button!\n",
        "# (In Jupyter[lab] start \"tensorbaord\" in the local directory instead.)\n",
        "if 'google.colab' in str(get_ipython()):\n",
        "  %load_ext tensorboard\n",
        "  %tensorboard --logdir=."
      ],
      "execution_count": null,
      "outputs": []
    },
    {
      "cell_type": "code",
      "metadata": {
        "tags": [],
        "id": "RHoBUKSkp4ZS",
        "outputId": "c35e8abd-47a9-406c-be13-5d3982dcc6f8",
        "colab": {
          "base_uri": "https://localhost:8080/"
        }
      },
      "source": [
        "# 3x 3 epochs trains in ~1 minute in the GPU Colab...\n",
        "\n",
        "# We don't use TPUs in this Colab because we do not distribute our\n",
        "# training using pmap() - if you're looking for an example using TPUs\n",
        "# checkout below Colab:\n",
        "# https://colab.research.google.com/github/google/flax/blob/master/examples/imagenet/imagenet.ipynb\n",
        "\n",
        "config.num_epochs = 3\n",
        "models = {}\n",
        "for momentum in (0.8, 0.9, 0.95):\n",
        "  name = f'momentum={momentum}'\n",
        "  config.momentum = momentum\n",
        "  optimizer = train.train_and_evaluate(config, workdir=f'./models/{name}')\n",
        "  models[name] = optimizer.target"
      ],
      "execution_count": null,
      "outputs": [
        {
          "output_type": "stream",
          "text": [
            "INFO:absl:Overwrite dataset info from restored data version.\n",
            "INFO:absl:Field info.location from disk and from code do not match. Keeping the one from code.\n",
            "INFO:absl:Reusing dataset mnist (/root/tensorflow_datasets/mnist/3.0.0)\n",
            "INFO:absl:Constructing tf.data.Dataset for split train, from /root/tensorflow_datasets/mnist/3.0.0\n",
            "INFO:absl:Constructing tf.data.Dataset for split test, from /root/tensorflow_datasets/mnist/3.0.0\n",
            "INFO:absl:train epoch: 1, loss: 0.2353, accuracy: 92.96\n",
            "INFO:absl:eval epoch: 1, loss: 0.0587, accuracy: 97.94\n",
            "INFO:absl:train epoch: 2, loss: 0.0587, accuracy: 98.16\n",
            "INFO:absl:eval epoch: 2, loss: 0.0576, accuracy: 98.09\n",
            "INFO:absl:train epoch: 3, loss: 0.0422, accuracy: 98.69\n",
            "INFO:absl:eval epoch: 3, loss: 0.0345, accuracy: 98.83\n",
            "INFO:absl:Overwrite dataset info from restored data version.\n",
            "INFO:absl:Field info.location from disk and from code do not match. Keeping the one from code.\n",
            "INFO:absl:Reusing dataset mnist (/root/tensorflow_datasets/mnist/3.0.0)\n",
            "INFO:absl:Constructing tf.data.Dataset for split train, from /root/tensorflow_datasets/mnist/3.0.0\n",
            "INFO:absl:Constructing tf.data.Dataset for split test, from /root/tensorflow_datasets/mnist/3.0.0\n",
            "INFO:absl:train epoch: 1, loss: 0.2740, accuracy: 91.81\n",
            "INFO:absl:eval epoch: 1, loss: 0.0539, accuracy: 98.18\n",
            "INFO:absl:train epoch: 2, loss: 0.0522, accuracy: 98.36\n",
            "INFO:absl:eval epoch: 2, loss: 0.0398, accuracy: 98.69\n",
            "INFO:absl:train epoch: 3, loss: 0.0370, accuracy: 98.85\n",
            "INFO:absl:eval epoch: 3, loss: 0.0283, accuracy: 98.97\n",
            "INFO:absl:Overwrite dataset info from restored data version.\n",
            "INFO:absl:Field info.location from disk and from code do not match. Keeping the one from code.\n",
            "INFO:absl:Reusing dataset mnist (/root/tensorflow_datasets/mnist/3.0.0)\n",
            "INFO:absl:Constructing tf.data.Dataset for split train, from /root/tensorflow_datasets/mnist/3.0.0\n",
            "INFO:absl:Constructing tf.data.Dataset for split test, from /root/tensorflow_datasets/mnist/3.0.0\n",
            "INFO:absl:train epoch: 1, loss: 0.2774, accuracy: 91.66\n",
            "INFO:absl:eval epoch: 1, loss: 0.0414, accuracy: 98.68\n",
            "INFO:absl:train epoch: 2, loss: 0.0503, accuracy: 98.46\n",
            "INFO:absl:eval epoch: 2, loss: 0.0344, accuracy: 98.92\n",
            "INFO:absl:train epoch: 3, loss: 0.0363, accuracy: 98.89\n",
            "INFO:absl:eval epoch: 3, loss: 0.0335, accuracy: 98.88\n"
          ],
          "name": "stderr"
        }
      ]
    },
    {
      "cell_type": "code",
      "metadata": {
        "tags": [],
        "id": "mZOKD0Y7p4ZW",
        "cellView": "form"
      },
      "source": [
        "if 'google.colab' in str(get_ipython()):\n",
        "  #@markdown You can upload the training results directly to https://tensorbaord.dev\n",
        "  #@markdown\n",
        "  #@markdown Note that everbody with the link will be able to see the data.\n",
        "  upload_data = 'no' #@param ['yes', 'no']\n",
        "  if upload_data == 'yes':\n",
        "    !tensorboard dev upload --one_shot --logdir ./models --name 'Flax examples/mnist'"
      ],
      "execution_count": null,
      "outputs": []
    },
    {
      "cell_type": "markdown",
      "metadata": {
        "id": "GBh-2D-Wp4ZY"
      },
      "source": [
        "## Inference"
      ]
    },
    {
      "cell_type": "code",
      "metadata": {
        "id": "Q-45FkBLp4ZY",
        "outputId": "7a859ed4-78e1-4a1d-8be7-76f7d9c58838",
        "colab": {
          "base_uri": "https://localhost:8080/"
        }
      },
      "source": [
        "# Find all mistakes in testset.\n",
        "logits = train.CNN().apply({'params': optimizer.target}, test_ds['image'])\n",
        "error_idxs, = jnp.where(test_ds['label'] != logits.argmax(axis=1))\n",
        "len(error_idxs) / len(logits)"
      ],
      "execution_count": null,
      "outputs": [
        {
          "output_type": "execute_result",
          "data": {
            "text/plain": [
              "0.0112"
            ]
          },
          "metadata": {
            "tags": []
          },
          "execution_count": 13
        }
      ]
    },
    {
      "cell_type": "code",
      "metadata": {
        "id": "xIIvyz8Jp4Zb",
        "outputId": "82c36adc-e9a9-4a74-8aed-07de4b6a1bf7",
        "colab": {
          "base_uri": "https://localhost:8080/",
          "height": 866
        }
      },
      "source": [
        "# Show some of them.\n",
        "show_img_grid(\n",
        "    [test_ds['image'][idx] for idx in error_idxs[:25]],\n",
        "    [f'pred={logits[idx].argmax()}' for idx in error_idxs[:25]],\n",
        ")"
      ],
      "execution_count": null,
      "outputs": [
        {
          "output_type": "display_data",
          "data": {
            "image/png": "[encoded data removed]",
            "text/plain": [
              "<Figure size 1080x1080 with 25 Axes>"
            ]
          },
          "metadata": {
            "tags": []
          }
        }
      ]
    }
  ]
}